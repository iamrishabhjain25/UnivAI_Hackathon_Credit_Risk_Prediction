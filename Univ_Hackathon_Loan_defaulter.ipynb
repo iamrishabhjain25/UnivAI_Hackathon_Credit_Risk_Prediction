{
  "nbformat": 4,
  "nbformat_minor": 0,
  "metadata": {
    "colab": {
      "name": "Univ_Hackathon_Loan_defaulter.ipynb",
      "provenance": [],
      "collapsed_sections": [
        "zktsY_pdz1C5"
      ]
    },
    "kernelspec": {
      "name": "python3",
      "display_name": "Python 3"
    },
    "language_info": {
      "name": "python"
    }
  },
  "cells": [
    {
      "cell_type": "code",
      "metadata": {
        "id": "RRdKez-702Bm"
      },
      "source": [
        "import numpy as np\n",
        "import pandas as pd\n",
        "import matplotlib.pyplot as plt\n",
        "import seaborn as sns\n",
        "\n",
        "from sklearn.preprocessing import LabelEncoder, MinMaxScaler, OrdinalEncoder, OneHotEncoder\n",
        "from sklearn.model_selection import train_test_split, GridSearchCV, RandomizedSearchCV, cross_val_predict\n",
        "from sklearn.compose import ColumnTransformer\n",
        "\n",
        "from sklearn.svm import SVC\n",
        "from sklearn.neighbors import KNeighborsClassifier\n",
        "from sklearn.ensemble import RandomForestClassifier\n",
        "from sklearn.metrics import confusion_matrix, f1_score, roc_auc_score\n",
        "\n",
        "from sklearn.decomposition import PCA\n",
        "from sklearn.pipeline import Pipeline\n",
        "%matplotlib inline\n"
      ],
      "execution_count": null,
      "outputs": []
    },
    {
      "cell_type": "code",
      "metadata": {
        "id": "2vz0DynR1Vn3"
      },
      "source": [
        "train_data = pd.read_csv('/content/drive/MyDrive/Training Data.csv')\n",
        "test_data = pd.read_csv('/content/drive/MyDrive/Test Data.csv')\n"
      ],
      "execution_count": null,
      "outputs": []
    },
    {
      "cell_type": "code",
      "metadata": {
        "id": "XLF0dGLQ6Ijn"
      },
      "source": [
        "test_data['profession'] = test_data['profession'].apply(lambda word: word.replace(' ', '_'))\n",
        "test_data['city'] = test_data['city'].apply(lambda word: word.replace(' ', '_'))\n",
        "test_data['state'] = test_data['state'].apply(lambda word: word.replace(' ', '_'))"
      ],
      "execution_count": null,
      "outputs": []
    },
    {
      "cell_type": "code",
      "metadata": {
        "id": "cGycC2Mq6e-8",
        "colab": {
          "base_uri": "https://localhost:8080/",
          "height": 444
        },
        "outputId": "179b2663-01f6-4709-d3cd-0bd9390de722"
      },
      "source": [
        "train_data"
      ],
      "execution_count": null,
      "outputs": [
        {
          "output_type": "execute_result",
          "data": {
            "text/html": [
              "<div>\n",
              "<style scoped>\n",
              "    .dataframe tbody tr th:only-of-type {\n",
              "        vertical-align: middle;\n",
              "    }\n",
              "\n",
              "    .dataframe tbody tr th {\n",
              "        vertical-align: top;\n",
              "    }\n",
              "\n",
              "    .dataframe thead th {\n",
              "        text-align: right;\n",
              "    }\n",
              "</style>\n",
              "<table border=\"1\" class=\"dataframe\">\n",
              "  <thead>\n",
              "    <tr style=\"text-align: right;\">\n",
              "      <th></th>\n",
              "      <th>Id</th>\n",
              "      <th>income</th>\n",
              "      <th>age</th>\n",
              "      <th>experience</th>\n",
              "      <th>married</th>\n",
              "      <th>house_ownership</th>\n",
              "      <th>car_ownership</th>\n",
              "      <th>profession</th>\n",
              "      <th>city</th>\n",
              "      <th>state</th>\n",
              "      <th>current_job_years</th>\n",
              "      <th>current_house_years</th>\n",
              "      <th>risk_flag</th>\n",
              "    </tr>\n",
              "  </thead>\n",
              "  <tbody>\n",
              "    <tr>\n",
              "      <th>0</th>\n",
              "      <td>1</td>\n",
              "      <td>1303835</td>\n",
              "      <td>23</td>\n",
              "      <td>3</td>\n",
              "      <td>single</td>\n",
              "      <td>rented</td>\n",
              "      <td>no</td>\n",
              "      <td>Mechanical_engineer</td>\n",
              "      <td>Rewa</td>\n",
              "      <td>Madhya_Pradesh</td>\n",
              "      <td>3</td>\n",
              "      <td>13</td>\n",
              "      <td>0</td>\n",
              "    </tr>\n",
              "    <tr>\n",
              "      <th>1</th>\n",
              "      <td>2</td>\n",
              "      <td>7574516</td>\n",
              "      <td>40</td>\n",
              "      <td>10</td>\n",
              "      <td>single</td>\n",
              "      <td>rented</td>\n",
              "      <td>no</td>\n",
              "      <td>Software_Developer</td>\n",
              "      <td>Parbhani</td>\n",
              "      <td>Maharashtra</td>\n",
              "      <td>9</td>\n",
              "      <td>13</td>\n",
              "      <td>0</td>\n",
              "    </tr>\n",
              "    <tr>\n",
              "      <th>2</th>\n",
              "      <td>3</td>\n",
              "      <td>3991815</td>\n",
              "      <td>66</td>\n",
              "      <td>4</td>\n",
              "      <td>married</td>\n",
              "      <td>rented</td>\n",
              "      <td>no</td>\n",
              "      <td>Technical_writer</td>\n",
              "      <td>Alappuzha</td>\n",
              "      <td>Kerala</td>\n",
              "      <td>4</td>\n",
              "      <td>10</td>\n",
              "      <td>0</td>\n",
              "    </tr>\n",
              "    <tr>\n",
              "      <th>3</th>\n",
              "      <td>4</td>\n",
              "      <td>6256451</td>\n",
              "      <td>41</td>\n",
              "      <td>2</td>\n",
              "      <td>single</td>\n",
              "      <td>rented</td>\n",
              "      <td>yes</td>\n",
              "      <td>Software_Developer</td>\n",
              "      <td>Bhubaneswar</td>\n",
              "      <td>Odisha</td>\n",
              "      <td>2</td>\n",
              "      <td>12</td>\n",
              "      <td>1</td>\n",
              "    </tr>\n",
              "    <tr>\n",
              "      <th>4</th>\n",
              "      <td>5</td>\n",
              "      <td>5768871</td>\n",
              "      <td>47</td>\n",
              "      <td>11</td>\n",
              "      <td>single</td>\n",
              "      <td>rented</td>\n",
              "      <td>no</td>\n",
              "      <td>Civil_servant</td>\n",
              "      <td>Tiruchirappalli[10]</td>\n",
              "      <td>Tamil_Nadu</td>\n",
              "      <td>3</td>\n",
              "      <td>14</td>\n",
              "      <td>1</td>\n",
              "    </tr>\n",
              "    <tr>\n",
              "      <th>...</th>\n",
              "      <td>...</td>\n",
              "      <td>...</td>\n",
              "      <td>...</td>\n",
              "      <td>...</td>\n",
              "      <td>...</td>\n",
              "      <td>...</td>\n",
              "      <td>...</td>\n",
              "      <td>...</td>\n",
              "      <td>...</td>\n",
              "      <td>...</td>\n",
              "      <td>...</td>\n",
              "      <td>...</td>\n",
              "      <td>...</td>\n",
              "    </tr>\n",
              "    <tr>\n",
              "      <th>251995</th>\n",
              "      <td>251996</td>\n",
              "      <td>8154883</td>\n",
              "      <td>43</td>\n",
              "      <td>13</td>\n",
              "      <td>single</td>\n",
              "      <td>rented</td>\n",
              "      <td>no</td>\n",
              "      <td>Surgeon</td>\n",
              "      <td>Kolkata</td>\n",
              "      <td>West_Bengal</td>\n",
              "      <td>6</td>\n",
              "      <td>11</td>\n",
              "      <td>0</td>\n",
              "    </tr>\n",
              "    <tr>\n",
              "      <th>251996</th>\n",
              "      <td>251997</td>\n",
              "      <td>2843572</td>\n",
              "      <td>26</td>\n",
              "      <td>10</td>\n",
              "      <td>single</td>\n",
              "      <td>rented</td>\n",
              "      <td>no</td>\n",
              "      <td>Army_officer</td>\n",
              "      <td>Rewa</td>\n",
              "      <td>Madhya_Pradesh</td>\n",
              "      <td>6</td>\n",
              "      <td>11</td>\n",
              "      <td>0</td>\n",
              "    </tr>\n",
              "    <tr>\n",
              "      <th>251997</th>\n",
              "      <td>251998</td>\n",
              "      <td>4522448</td>\n",
              "      <td>46</td>\n",
              "      <td>7</td>\n",
              "      <td>single</td>\n",
              "      <td>rented</td>\n",
              "      <td>no</td>\n",
              "      <td>Design_Engineer</td>\n",
              "      <td>Kalyan-Dombivli</td>\n",
              "      <td>Maharashtra</td>\n",
              "      <td>7</td>\n",
              "      <td>12</td>\n",
              "      <td>0</td>\n",
              "    </tr>\n",
              "    <tr>\n",
              "      <th>251998</th>\n",
              "      <td>251999</td>\n",
              "      <td>6507128</td>\n",
              "      <td>45</td>\n",
              "      <td>0</td>\n",
              "      <td>single</td>\n",
              "      <td>rented</td>\n",
              "      <td>no</td>\n",
              "      <td>Graphic_Designer</td>\n",
              "      <td>Pondicherry</td>\n",
              "      <td>Puducherry</td>\n",
              "      <td>0</td>\n",
              "      <td>10</td>\n",
              "      <td>0</td>\n",
              "    </tr>\n",
              "    <tr>\n",
              "      <th>251999</th>\n",
              "      <td>252000</td>\n",
              "      <td>9070230</td>\n",
              "      <td>70</td>\n",
              "      <td>17</td>\n",
              "      <td>single</td>\n",
              "      <td>rented</td>\n",
              "      <td>no</td>\n",
              "      <td>Statistician</td>\n",
              "      <td>Avadi</td>\n",
              "      <td>Tamil_Nadu</td>\n",
              "      <td>7</td>\n",
              "      <td>11</td>\n",
              "      <td>0</td>\n",
              "    </tr>\n",
              "  </tbody>\n",
              "</table>\n",
              "<p>252000 rows × 13 columns</p>\n",
              "</div>"
            ],
            "text/plain": [
              "            Id   income  age  ...  current_job_years current_house_years risk_flag\n",
              "0            1  1303835   23  ...                  3                  13         0\n",
              "1            2  7574516   40  ...                  9                  13         0\n",
              "2            3  3991815   66  ...                  4                  10         0\n",
              "3            4  6256451   41  ...                  2                  12         1\n",
              "4            5  5768871   47  ...                  3                  14         1\n",
              "...        ...      ...  ...  ...                ...                 ...       ...\n",
              "251995  251996  8154883   43  ...                  6                  11         0\n",
              "251996  251997  2843572   26  ...                  6                  11         0\n",
              "251997  251998  4522448   46  ...                  7                  12         0\n",
              "251998  251999  6507128   45  ...                  0                  10         0\n",
              "251999  252000  9070230   70  ...                  7                  11         0\n",
              "\n",
              "[252000 rows x 13 columns]"
            ]
          },
          "metadata": {
            "tags": []
          },
          "execution_count": 32
        }
      ]
    },
    {
      "cell_type": "code",
      "metadata": {
        "colab": {
          "base_uri": "https://localhost:8080/",
          "height": 406
        },
        "id": "3D5QU9aszE95",
        "outputId": "6c63c39e-2f34-4328-b2e8-5c12bc7ab0ec"
      },
      "source": [
        "plt.figure(figsize=(11,6))\n",
        "sns.histplot(train_data['income'],bins=40)"
      ],
      "execution_count": null,
      "outputs": [
        {
          "output_type": "execute_result",
          "data": {
            "text/plain": [
              "<matplotlib.axes._subplots.AxesSubplot at 0x7f105e04b310>"
            ]
          },
          "metadata": {
            "tags": []
          },
          "execution_count": 33
        },
        {
          "output_type": "display_data",
          "data": {
            "image/png": "[encoded data removed]",
            "text/plain": [
              "<Figure size 792x432 with 1 Axes>"
            ]
          },
          "metadata": {
            "tags": [],
            "needs_background": "light"
          }
        }
      ]
    },
    {
      "cell_type": "code",
      "metadata": {
        "colab": {
          "base_uri": "https://localhost:8080/",
          "height": 406
        },
        "id": "iBrUZotczE6n",
        "outputId": "20ad38e6-4d1b-45d1-ac7b-6a4bff431ea9"
      },
      "source": [
        "plt.figure(figsize=(11,6))\n",
        "sns.histplot(train_data['age'],bins=20)"
      ],
      "execution_count": null,
      "outputs": [
        {
          "output_type": "execute_result",
          "data": {
            "text/plain": [
              "<matplotlib.axes._subplots.AxesSubplot at 0x7f105b403890>"
            ]
          },
          "metadata": {
            "tags": []
          },
          "execution_count": 34
        },
        {
          "output_type": "display_data",
          "data": {
            "image/png": "[encoded data removed]",
            "text/plain": [
              "<Figure size 792x432 with 1 Axes>"
            ]
          },
          "metadata": {
            "tags": [],
            "needs_background": "light"
          }
        }
      ]
    },
    {
      "cell_type": "code",
      "metadata": {
        "colab": {
          "base_uri": "https://localhost:8080/",
          "height": 406
        },
        "id": "VaFcajztzE2H",
        "outputId": "00f0d2b8-b6c1-479f-e896-b6d48a685547"
      },
      "source": [
        "plt.figure(figsize=(11,6))\n",
        "sns.histplot(train_data['experience'],bins=20)"
      ],
      "execution_count": null,
      "outputs": [
        {
          "output_type": "execute_result",
          "data": {
            "text/plain": [
              "<matplotlib.axes._subplots.AxesSubplot at 0x7f105b40acd0>"
            ]
          },
          "metadata": {
            "tags": []
          },
          "execution_count": 35
        },
        {
          "output_type": "display_data",
          "data": {
            "image/png": "[encoded data removed]",
            "text/plain": [
              "<Figure size 792x432 with 1 Axes>"
            ]
          },
          "metadata": {
            "tags": [],
            "needs_background": "light"
          }
        }
      ]
    },
    {
      "cell_type": "code",
      "metadata": {
        "colab": {
          "base_uri": "https://localhost:8080/",
          "height": 407
        },
        "id": "mx0_7epxzE0I",
        "outputId": "937c2891-5ba0-4cfa-b36f-98485b28e998"
      },
      "source": [
        "plt.figure(figsize=(11,6))\n",
        "sns.histplot(train_data['current_job_years'])"
      ],
      "execution_count": null,
      "outputs": [
        {
          "output_type": "execute_result",
          "data": {
            "text/plain": [
              "<matplotlib.axes._subplots.AxesSubplot at 0x7f105b2af410>"
            ]
          },
          "metadata": {
            "tags": []
          },
          "execution_count": 36
        },
        {
          "output_type": "display_data",
          "data": {
            "image/png": "[encoded data removed]",
            "text/plain": [
              "<Figure size 792x432 with 1 Axes>"
            ]
          },
          "metadata": {
            "tags": [],
            "needs_background": "light"
          }
        }
      ]
    },
    {
      "cell_type": "code",
      "metadata": {
        "colab": {
          "base_uri": "https://localhost:8080/",
          "height": 407
        },
        "id": "7T5YK8502TLL",
        "outputId": "8819bff2-fb8e-4d30-df5f-8b62b9e0f4e6"
      },
      "source": [
        "plt.figure(figsize=(11,6))\n",
        "sns.histplot(train_data['current_house_years'])"
      ],
      "execution_count": null,
      "outputs": [
        {
          "output_type": "execute_result",
          "data": {
            "text/plain": [
              "<matplotlib.axes._subplots.AxesSubplot at 0x7f105b1612d0>"
            ]
          },
          "metadata": {
            "tags": []
          },
          "execution_count": 37
        },
        {
          "output_type": "display_data",
          "data": {
            "image/png": "[encoded data removed]",
            "text/plain": [
              "<Figure size 792x432 with 1 Axes>"
            ]
          },
          "metadata": {
            "tags": [],
            "needs_background": "light"
          }
        }
      ]
    },
    {
      "cell_type": "code",
      "metadata": {
        "colab": {
          "base_uri": "https://localhost:8080/",
          "height": 463
        },
        "id": "9conyZvDzEx8",
        "outputId": "e82490b4-0715-4f8a-d5c1-94e00f0ffd53"
      },
      "source": [
        "plt.figure(figsize=(11,6))\n",
        "sns.countplot(train_data['married'], hue=train_data['risk_flag'])"
      ],
      "execution_count": null,
      "outputs": [
        {
          "output_type": "stream",
          "text": [
            "/usr/local/lib/python3.7/dist-packages/seaborn/_decorators.py:43: FutureWarning: Pass the following variable as a keyword arg: x. From version 0.12, the only valid positional argument will be `data`, and passing other arguments without an explicit keyword will result in an error or misinterpretation.\n",
            "  FutureWarning\n"
          ],
          "name": "stderr"
        },
        {
          "output_type": "execute_result",
          "data": {
            "text/plain": [
              "<matplotlib.axes._subplots.AxesSubplot at 0x7f105c530c90>"
            ]
          },
          "metadata": {
            "tags": []
          },
          "execution_count": 38
        },
        {
          "output_type": "display_data",
          "data": {
            "image/png": "[encoded data removed]",
            "text/plain": [
              "<Figure size 792x432 with 1 Axes>"
            ]
          },
          "metadata": {
            "tags": [],
            "needs_background": "light"
          }
        }
      ]
    },
    {
      "cell_type": "code",
      "metadata": {
        "colab": {
          "base_uri": "https://localhost:8080/",
          "height": 464
        },
        "id": "9qhw7gBezEvr",
        "outputId": "969aa657-f6d7-4e2e-b8e4-2ae3911e13be"
      },
      "source": [
        "plt.figure(figsize=(11,6))\n",
        "sns.countplot(train_data['house_ownership'], hue=train_data['risk_flag'])"
      ],
      "execution_count": null,
      "outputs": [
        {
          "output_type": "stream",
          "text": [
            "/usr/local/lib/python3.7/dist-packages/seaborn/_decorators.py:43: FutureWarning: Pass the following variable as a keyword arg: x. From version 0.12, the only valid positional argument will be `data`, and passing other arguments without an explicit keyword will result in an error or misinterpretation.\n",
            "  FutureWarning\n"
          ],
          "name": "stderr"
        },
        {
          "output_type": "execute_result",
          "data": {
            "text/plain": [
              "<matplotlib.axes._subplots.AxesSubplot at 0x7f105b009190>"
            ]
          },
          "metadata": {
            "tags": []
          },
          "execution_count": 39
        },
        {
          "output_type": "display_data",
          "data": {
            "image/png": "[encoded data removed]",
            "text/plain": [
              "<Figure size 792x432 with 1 Axes>"
            ]
          },
          "metadata": {
            "tags": [],
            "needs_background": "light"
          }
        }
      ]
    },
    {
      "cell_type": "code",
      "metadata": {
        "id": "o6hgAr4m25Cf"
      },
      "source": [
        "#making a copy of the original data to work on so that original figures remains intact\n",
        "\n",
        "df = train_data.copy(True)\n",
        "df2 = test_data.copy(True)"
      ],
      "execution_count": null,
      "outputs": []
    },
    {
      "cell_type": "code",
      "metadata": {
        "id": "n_HlvErNfeHT"
      },
      "source": [
        "df.drop('Id', axis=1, inplace=True)\n",
        "df2.drop('id', axis=1, inplace=True)\n"
      ],
      "execution_count": null,
      "outputs": []
    },
    {
      "cell_type": "code",
      "metadata": {
        "id": "-tdWSlcJglfa"
      },
      "source": [
        "#Chnaging the values to binay form from categorical\n",
        "\n",
        "df['married'] = [0*i if df['married'][i]=='single' else 1 for i in range(len(df)) ]\n",
        "df['house_ownership'] = [0 if df['house_ownership'][i]=='norent_noown' else 1 if df['house_ownership'][i]=='rented' else -1 for i in range(len(df))]\n",
        "df['car_ownership'] = [0 if df['car_ownership'][i]=='no' else 1 for i in range(len(df))]\n",
        "\n",
        "df2['married'] = [0*i if df2['married'][i]=='single' else 1 for i in range(len(df2)) ]\n",
        "df2['house_ownership'] = [0 if df2['house_ownership'][i]=='norent_noown' else 1 if df2['house_ownership'][i]=='rented' else -1 for i in range(len(df2))]\n",
        "df2['car_ownership'] = [0 if df2['car_ownership'][i]=='no' else 1 for i in range(len(df2))]\n",
        "\n"
      ],
      "execution_count": null,
      "outputs": []
    },
    {
      "cell_type": "code",
      "metadata": {
        "id": "eGWPZ3uazRo3"
      },
      "source": [
        "# plt.figure(figsize=(16,8))\n",
        "# sns.histplot(df['house_ownership'],bins=25)"
      ],
      "execution_count": null,
      "outputs": []
    },
    {
      "cell_type": "code",
      "metadata": {
        "id": "OT0fJcFFyf9Y",
        "colab": {
          "base_uri": "https://localhost:8080/"
        },
        "outputId": "b47f5db7-e168-4d55-a855-fb286c76f812"
      },
      "source": [
        "df['car_ownership'].value_counts()"
      ],
      "execution_count": null,
      "outputs": [
        {
          "output_type": "execute_result",
          "data": {
            "text/plain": [
              "0    176000\n",
              "1     76000\n",
              "Name: car_ownership, dtype: int64"
            ]
          },
          "metadata": {
            "tags": []
          },
          "execution_count": 44
        }
      ]
    },
    {
      "cell_type": "code",
      "metadata": {
        "id": "fBZxNCS3BAKJ",
        "colab": {
          "base_uri": "https://localhost:8080/"
        },
        "outputId": "3527beae-8938-404b-e714-c5583b1719c5"
      },
      "source": [
        "num_feat = df.select_dtypes(include='number').columns.tolist()[:-1]\n",
        "cat_feat = df.select_dtypes(exclude='number').columns.tolist()\n",
        "target_feat = df.select_dtypes(include='number').columns.tolist()[-1]\n",
        "\n",
        "Y_ready = df[target_feat].values\n",
        "\n",
        "transformer = ColumnTransformer([\n",
        "                              ('encoding',OneHotEncoder() ,cat_feat),\n",
        "                              ('scaling', MinMaxScaler(), num_feat),                              \n",
        "                              ], remainder='passthrough')\n",
        "\n",
        "print(num_feat)\n",
        "print(cat_feat)\n",
        "print(target_feat)\n",
        "\n"
      ],
      "execution_count": null,
      "outputs": [
        {
          "output_type": "stream",
          "text": [
            "['income', 'age', 'experience', 'married', 'house_ownership', 'car_ownership', 'current_job_years', 'current_house_years']\n",
            "['profession', 'city', 'state']\n",
            "risk_flag\n"
          ],
          "name": "stdout"
        }
      ]
    },
    {
      "cell_type": "code",
      "metadata": {
        "id": "siF5FB7zAfVd"
      },
      "source": [
        "df = transformer.fit_transform(df.iloc[:,:-1])\n",
        "df2 = transformer.transform(df2)\n"
      ],
      "execution_count": null,
      "outputs": []
    },
    {
      "cell_type": "code",
      "metadata": {
        "id": "u6hbYWwerDS6"
      },
      "source": [
        ""
      ],
      "execution_count": null,
      "outputs": []
    },
    {
      "cell_type": "code",
      "metadata": {
        "colab": {
          "base_uri": "https://localhost:8080/"
        },
        "id": "cZou3k1rEDCZ",
        "outputId": "07f75005-f5fa-4e04-edc7-561c5f1ee279"
      },
      "source": [
        "X_ready = df\n",
        "X_test = df2\n",
        "\n",
        "X_train, X_val, y_train, y_val = train_test_split(X_ready, Y_ready, test_size=0.2,stratify=Y_ready)\n",
        "\n",
        "\n",
        "\n",
        "print('X_train shape :', X_train.shape)\n",
        "print('y_train shape :', y_train.shape)\n",
        "print('\\n')\n",
        "print('X_val shape :', X_val.shape)\n",
        "print('y_val shape :', y_val.shape)\n",
        "print('\\n')\n",
        "print('X_test shape :', X_test.shape)\n",
        "\n",
        "\n",
        "\n"
      ],
      "execution_count": null,
      "outputs": [
        {
          "output_type": "stream",
          "text": [
            "X_train shape : (201600, 405)\n",
            "y_train shape : (201600,)\n",
            "\n",
            "\n",
            "X_val shape : (50400, 405)\n",
            "y_val shape : (50400,)\n",
            "\n",
            "\n",
            "X_test shape : (28000, 405)\n"
          ],
          "name": "stdout"
        }
      ]
    },
    {
      "cell_type": "markdown",
      "metadata": {
        "id": "zktsY_pdz1C5"
      },
      "source": [
        "#### $\\textbf{Random Forest}$\n",
        "\n",
        "Rf(n_esti=500, class_weight=balanced) : Train 95.89 , Val : 93.76"
      ]
    },
    {
      "cell_type": "code",
      "metadata": {
        "id": "wGgXRAeHHiVP",
        "colab": {
          "base_uri": "https://localhost:8080/"
        },
        "outputId": "97ba2ba4-6a12-4a69-e630-1431bae780d3"
      },
      "source": [
        "from sklearn.ensemble import RandomForestClassifier\n",
        "\n",
        "forest_clf = RandomForestClassifier(n_estimators=800,class_weight='balanced')\n",
        "forest_clf.fit(X_train,y_train)"
      ],
      "execution_count": null,
      "outputs": [
        {
          "output_type": "execute_result",
          "data": {
            "text/plain": [
              "RandomForestClassifier(bootstrap=True, ccp_alpha=0.0, class_weight='balanced',\n",
              "                       criterion='gini', max_depth=None, max_features='auto',\n",
              "                       max_leaf_nodes=None, max_samples=None,\n",
              "                       min_impurity_decrease=0.0, min_impurity_split=None,\n",
              "                       min_samples_leaf=1, min_samples_split=2,\n",
              "                       min_weight_fraction_leaf=0.0, n_estimators=800,\n",
              "                       n_jobs=None, oob_score=False, random_state=None,\n",
              "                       verbose=0, warm_start=False)"
            ]
          },
          "metadata": {
            "tags": []
          },
          "execution_count": 48
        }
      ]
    },
    {
      "cell_type": "code",
      "metadata": {
        "colab": {
          "base_uri": "https://localhost:8080/"
        },
        "id": "wPEzsEJyfUUj",
        "outputId": "22470645-dac0-4b42-ef03-5764b109f266"
      },
      "source": [
        "y_score_forest = forest_clf.predict_proba(X_train)\n",
        "roc_auc_score(y_train, y_score_forest[:,1])"
      ],
      "execution_count": null,
      "outputs": [
        {
          "output_type": "execute_result",
          "data": {
            "text/plain": [
              "0.9586691327436209"
            ]
          },
          "metadata": {
            "tags": []
          },
          "execution_count": 49
        }
      ]
    },
    {
      "cell_type": "code",
      "metadata": {
        "colab": {
          "base_uri": "https://localhost:8080/"
        },
        "id": "pomD0M0Lfvze",
        "outputId": "a442055e-e1d6-49ec-f40b-3fd0e6bc7d7c"
      },
      "source": [
        "roc_auc_score(y_val, forest_clf.predict_proba(X_val)[:,1])"
      ],
      "execution_count": null,
      "outputs": [
        {
          "output_type": "execute_result",
          "data": {
            "text/plain": [
              "0.9375486571303459"
            ]
          },
          "metadata": {
            "tags": []
          },
          "execution_count": 50
        }
      ]
    },
    {
      "cell_type": "code",
      "metadata": {
        "colab": {
          "base_uri": "https://localhost:8080/",
          "height": 424
        },
        "id": "O9MwtSaKA-EW",
        "outputId": "7961658f-6797-482f-cb68-c990bfcf3f50"
      },
      "source": [
        "y_predic_forest_no_pca = pd.DataFrame(forest_clf.predict(X_test))\n",
        "y_predic_forest_no_pca['id'] = test_data['id']\n",
        "y_predic_forest_no_pca"
      ],
      "execution_count": null,
      "outputs": [
        {
          "output_type": "execute_result",
          "data": {
            "text/html": [
              "<div>\n",
              "<style scoped>\n",
              "    .dataframe tbody tr th:only-of-type {\n",
              "        vertical-align: middle;\n",
              "    }\n",
              "\n",
              "    .dataframe tbody tr th {\n",
              "        vertical-align: top;\n",
              "    }\n",
              "\n",
              "    .dataframe thead th {\n",
              "        text-align: right;\n",
              "    }\n",
              "</style>\n",
              "<table border=\"1\" class=\"dataframe\">\n",
              "  <thead>\n",
              "    <tr style=\"text-align: right;\">\n",
              "      <th></th>\n",
              "      <th>0</th>\n",
              "      <th>id</th>\n",
              "    </tr>\n",
              "  </thead>\n",
              "  <tbody>\n",
              "    <tr>\n",
              "      <th>0</th>\n",
              "      <td>0</td>\n",
              "      <td>1</td>\n",
              "    </tr>\n",
              "    <tr>\n",
              "      <th>1</th>\n",
              "      <td>0</td>\n",
              "      <td>2</td>\n",
              "    </tr>\n",
              "    <tr>\n",
              "      <th>2</th>\n",
              "      <td>0</td>\n",
              "      <td>3</td>\n",
              "    </tr>\n",
              "    <tr>\n",
              "      <th>3</th>\n",
              "      <td>0</td>\n",
              "      <td>4</td>\n",
              "    </tr>\n",
              "    <tr>\n",
              "      <th>4</th>\n",
              "      <td>0</td>\n",
              "      <td>5</td>\n",
              "    </tr>\n",
              "    <tr>\n",
              "      <th>...</th>\n",
              "      <td>...</td>\n",
              "      <td>...</td>\n",
              "    </tr>\n",
              "    <tr>\n",
              "      <th>27995</th>\n",
              "      <td>0</td>\n",
              "      <td>27996</td>\n",
              "    </tr>\n",
              "    <tr>\n",
              "      <th>27996</th>\n",
              "      <td>0</td>\n",
              "      <td>27997</td>\n",
              "    </tr>\n",
              "    <tr>\n",
              "      <th>27997</th>\n",
              "      <td>0</td>\n",
              "      <td>27998</td>\n",
              "    </tr>\n",
              "    <tr>\n",
              "      <th>27998</th>\n",
              "      <td>0</td>\n",
              "      <td>27999</td>\n",
              "    </tr>\n",
              "    <tr>\n",
              "      <th>27999</th>\n",
              "      <td>1</td>\n",
              "      <td>28000</td>\n",
              "    </tr>\n",
              "  </tbody>\n",
              "</table>\n",
              "<p>28000 rows × 2 columns</p>\n",
              "</div>"
            ],
            "text/plain": [
              "       0     id\n",
              "0      0      1\n",
              "1      0      2\n",
              "2      0      3\n",
              "3      0      4\n",
              "4      0      5\n",
              "...   ..    ...\n",
              "27995  0  27996\n",
              "27996  0  27997\n",
              "27997  0  27998\n",
              "27998  0  27999\n",
              "27999  1  28000\n",
              "\n",
              "[28000 rows x 2 columns]"
            ]
          },
          "metadata": {
            "tags": []
          },
          "execution_count": 51
        }
      ]
    },
    {
      "cell_type": "code",
      "metadata": {
        "id": "n19lbSz6Rk9q"
      },
      "source": [
        "y_predic_forest_no_pca.columns = ['risk_flag', 'id']\n",
        "y_predic_forest_no_pca[['id', 'risk_flag']].to_csv('Y_predict_forest_NoPCA.csv', index=False)"
      ],
      "execution_count": null,
      "outputs": []
    },
    {
      "cell_type": "markdown",
      "metadata": {
        "id": "kUT1Mhtgzyh7"
      },
      "source": [
        "#### $\\textbf{Grid Random Forest with pca}$\n",
        "\n",
        "Pca with 50, Rf(n_esti=300, class_weight=balanced) : Train 95.65 , Val : 92.63\n",
        "\n",
        "\n",
        "Pca with 50, Rf(n_esti=500, class_weight=balanced) : Train 95.57 , Val : 92.76\n",
        "\n",
        "Pca with 60, Rf(n_esti=500, class_weight=balanced) : Train 95.7 , Val : 93.04\n",
        "\n",
        "Pca with 70, Rf(n_esti=500, class_weight=balanced) : Train 95.64 , Val : 93.47\n",
        "\n",
        "Pca with 70, Rf(n_esti=700, class_weight=balanced) : Train 95.65 , Val : 93.48\n",
        "\n",
        "Pca with 70, Rf(n_esti=700, class_weight=balanced) : Train 95.65 , Val : 93.78\n",
        "\n",
        "Pca with 100, Rf(n_esti=900, class_weight=balanced) : Train 95.65 , Val : 93.74"
      ]
    },
    {
      "cell_type": "code",
      "metadata": {
        "id": "Dc5tnkWs0HFA"
      },
      "source": [
        "\n",
        "pca = PCA(n_components=50)\n",
        "\n",
        "pipe = Pipeline([\n",
        "                 ('pca', pca),\n",
        "                 ('rforest', RandomForestClassifier(n_estimators=500, class_weight='balanced',max_depth=None))\n",
        "                 ])\n",
        "\n"
      ],
      "execution_count": null,
      "outputs": []
    },
    {
      "cell_type": "code",
      "metadata": {
        "id": "Yn_0AnVb7FX6"
      },
      "source": [
        "pipe.fit(X_train.toarray(), y_train)"
      ],
      "execution_count": null,
      "outputs": []
    },
    {
      "cell_type": "code",
      "metadata": {
        "colab": {
          "base_uri": "https://localhost:8080/"
        },
        "id": "EwiJyyUn7RSf",
        "outputId": "670d5872-3d23-4361-b830-1a19dfdb8686"
      },
      "source": [
        "roc_auc_score(y_train, pipe.predict(X_train.toarray()))"
      ],
      "execution_count": null,
      "outputs": [
        {
          "output_type": "execute_result",
          "data": {
            "text/plain": [
              "0.8700684299132098"
            ]
          },
          "metadata": {
            "tags": []
          },
          "execution_count": 17
        }
      ]
    },
    {
      "cell_type": "code",
      "metadata": {
        "colab": {
          "base_uri": "https://localhost:8080/"
        },
        "id": "kPmwc6Hq7j80",
        "outputId": "76decc4a-47fc-4425-bb0a-0bcf7ae1eaa4"
      },
      "source": [
        "roc_auc_score(y_val, pipe.predict(X_val.toarray()))"
      ],
      "execution_count": null,
      "outputs": [
        {
          "output_type": "execute_result",
          "data": {
            "text/plain": [
              "0.8062458131920418"
            ]
          },
          "metadata": {
            "tags": []
          },
          "execution_count": 18
        }
      ]
    },
    {
      "cell_type": "code",
      "metadata": {
        "id": "T0kZkbaeKi0q"
      },
      "source": [
        "y_predic_forest = pipe.predict(X_test.toarray())\n",
        "y_predic_forest_df = pd.DataFrame(y_predic_forest)\n",
        "y_predic_forest_df['id'] = test_data['id']"
      ],
      "execution_count": null,
      "outputs": []
    },
    {
      "cell_type": "code",
      "metadata": {
        "id": "a7J7vtJuVrLE"
      },
      "source": [
        "y_predic_forest_df.columns = ['risk_flag', 'id']\n",
        "y_predic_forest_df[['id', 'risk_flag']].to_csv('Y_predicted_1500forest_200pca.csv', index=False)"
      ],
      "execution_count": null,
      "outputs": []
    },
    {
      "cell_type": "code",
      "metadata": {
        "id": "zAIxu1AKVawQ"
      },
      "source": [
        ""
      ],
      "execution_count": null,
      "outputs": []
    },
    {
      "cell_type": "code",
      "metadata": {
        "id": "57mTOeRWWBx-"
      },
      "source": [
        ""
      ],
      "execution_count": null,
      "outputs": []
    },
    {
      "cell_type": "markdown",
      "metadata": {
        "id": "3DQzSYpgt177"
      },
      "source": [
        "#### $\\textbf{LGBM}$\n",
        "estimator :2000, learning_rate :0.01, num_leaves=1000, max_depth=50, class_Weight= balanced nthrea=4 , silent=-1. verbose=-1,Train :97.48 , val :93.25\n",
        "\n",
        "n_estimator =2000, Train:96.82 , Val :91.84\n"
      ]
    },
    {
      "cell_type": "code",
      "metadata": {
        "colab": {
          "base_uri": "https://localhost:8080/"
        },
        "id": "FSm1sgpEt95V",
        "outputId": "7d71f707-99dd-4f4c-eec3-1c0b2e5f73e8"
      },
      "source": [
        "from lightgbm import LGBMClassifier\n",
        "\n",
        "\n",
        "pca_lgbm = PCA(n_components=100)\n",
        "\n",
        "lgbm_clf = LGBMClassifier(\n",
        "                    # nthread=4,\n",
        "                     n_estimators=2000,\n",
        "                    # learning_rate=0.01,\n",
        "                    # num_leaves=1000,\n",
        "                    # #colsample_bytree=0.9497036,\n",
        "                    # #subsample=0.8715623,\n",
        "                    # max_depth=50,\n",
        "                    # #reg_alpha=0.04,\n",
        "                    # #reg_lambda=0.073,\n",
        "                    # #min_split_gain=0.01,\n",
        "                    # #min_child_weight=40,\n",
        "                    # silent=-1,\n",
        "                    # verbose=-1,\n",
        "                    # class_weight='balanced'\n",
        "                     )\n",
        "\n",
        "\n",
        "\n",
        "pipe_lgbm = Pipeline([\n",
        "                 ('pca_lgbm', pca_lgbm),\n",
        "                 ('lgbm', lgbm_clf)\n",
        "                 ])\n",
        "\n",
        "\n",
        "\n",
        "pipe_lgbm.fit(X_train.toarray(), y_train)"
      ],
      "execution_count": null,
      "outputs": [
        {
          "output_type": "execute_result",
          "data": {
            "text/plain": [
              "Pipeline(memory=None,\n",
              "         steps=[('pca_lgbm',\n",
              "                 PCA(copy=True, iterated_power='auto', n_components=100,\n",
              "                     random_state=None, svd_solver='auto', tol=0.0,\n",
              "                     whiten=False)),\n",
              "                ('lgbm',\n",
              "                 LGBMClassifier(boosting_type='gbdt', class_weight=None,\n",
              "                                colsample_bytree=1.0, importance_type='split',\n",
              "                                learning_rate=0.1, max_depth=-1,\n",
              "                                min_child_samples=20, min_child_weight=0.001,\n",
              "                                min_split_gain=0.0, n_estimators=2000,\n",
              "                                n_jobs=-1, num_leaves=31, objective=None,\n",
              "                                random_state=None, reg_alpha=0.0,\n",
              "                                reg_lambda=0.0, silent=True, subsample=1.0,\n",
              "                                subsample_for_bin=200000, subsample_freq=0))],\n",
              "         verbose=False)"
            ]
          },
          "metadata": {
            "tags": []
          },
          "execution_count": 14
        }
      ]
    },
    {
      "cell_type": "code",
      "metadata": {
        "colab": {
          "base_uri": "https://localhost:8080/"
        },
        "id": "Nm6NecLwuHLr",
        "outputId": "c4910253-a0b8-4448-8368-f76da5049481"
      },
      "source": [
        "print('Train score')\n",
        "print(roc_auc_score(y_train, pipe_lgbm.predict_proba(X_train.toarray())[:,1]))\n",
        "\n",
        "print('Val score')\n",
        "roc_auc_score(y_val, pipe_lgbm.predict_proba(X_val.toarray())[:,1])"
      ],
      "execution_count": null,
      "outputs": [
        {
          "output_type": "stream",
          "text": [
            "Train score\n",
            "0.9682414712204181\n",
            "Val score\n"
          ],
          "name": "stdout"
        },
        {
          "output_type": "execute_result",
          "data": {
            "text/plain": [
              "0.9184207633922055"
            ]
          },
          "metadata": {
            "tags": []
          },
          "execution_count": 15
        }
      ]
    },
    {
      "cell_type": "code",
      "metadata": {
        "id": "uJXcw00bvSO5"
      },
      "source": [
        "# y_predic_lgbm = pipe_lgbm.predict(X_test.toarray())"
      ],
      "execution_count": null,
      "outputs": []
    },
    {
      "cell_type": "code",
      "metadata": {
        "id": "U2Ldciy137mc"
      },
      "source": [
        "# y_predic_lgbm_df = pd.DataFrame(y_predic_lgbm)\n",
        "# y_predic_lgbm_df['id'] = test_data['id']\n",
        "# y_predic_lgbm_df.columns = ['risk_flag', 'id']\n"
      ],
      "execution_count": null,
      "outputs": []
    },
    {
      "cell_type": "code",
      "metadata": {
        "id": "o6yCRxxD4Nfv"
      },
      "source": [
        "# y_predic_lgbm_df[['id', 'risk_flag']].to_csv('Y_predicted_Lgbm.csv', index=False)"
      ],
      "execution_count": null,
      "outputs": []
    },
    {
      "cell_type": "code",
      "metadata": {
        "id": "lmh0U-Mk4xko"
      },
      "source": [
        ""
      ],
      "execution_count": null,
      "outputs": []
    }
  ]
}