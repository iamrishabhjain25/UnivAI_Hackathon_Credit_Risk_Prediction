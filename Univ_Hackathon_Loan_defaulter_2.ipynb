{
  "nbformat": 4,
  "nbformat_minor": 0,
  "metadata": {
    "colab": {
      "name": "Univ_Hackathon_Loan_defaulter_2.ipynb",
      "provenance": [],
      "collapsed_sections": [
        "y0hUbaCU5Dwm",
        "nsAo_gNJFnnq"
      ]
    },
    "kernelspec": {
      "name": "python3",
      "display_name": "Python 3"
    },
    "language_info": {
      "name": "python"
    }
  },
  "cells": [
    {
      "cell_type": "markdown",
      "metadata": {
        "id": "99ocBBw7F04i"
      },
      "source": [
        "$\\textbf{After removing the profession, city, state categorical columns}$"
      ]
    },
    {
      "cell_type": "code",
      "metadata": {
        "id": "RRdKez-702Bm",
        "colab": {
          "base_uri": "https://localhost:8080/"
        },
        "outputId": "0627cf5d-05bb-4147-f085-4b70d336e8a8"
      },
      "source": [
        "import numpy as np\n",
        "import pandas as pd\n",
        "import matplotlib.pyplot as plt\n",
        "import seaborn as sns\n",
        "\n",
        "from sklearn.preprocessing import LabelEncoder, MinMaxScaler, OrdinalEncoder, OneHotEncoder\n",
        "from sklearn.model_selection import train_test_split, GridSearchCV, RandomizedSearchCV, cross_val_predict\n",
        "from sklearn.compose import ColumnTransformer\n",
        "\n",
        "from sklearn.svm import SVC\n",
        "from sklearn.neighbors import KNeighborsClassifier\n",
        "from sklearn.metrics import confusion_matrix, f1_score,classification_report,roc_auc_score\n",
        "\n",
        "\n",
        "%matplotlib inline\n",
        "\n",
        "!pip install xgboost\n",
        "import xgboost as xgb\n",
        "from xgboost import XGBClassifier\n"
      ],
      "execution_count": null,
      "outputs": [
        {
          "output_type": "stream",
          "text": [
            "Requirement already satisfied: xgboost in /usr/local/lib/python3.7/dist-packages (0.90)\n",
            "Requirement already satisfied: scipy in /usr/local/lib/python3.7/dist-packages (from xgboost) (1.4.1)\n",
            "Requirement already satisfied: numpy in /usr/local/lib/python3.7/dist-packages (from xgboost) (1.19.5)\n"
          ],
          "name": "stdout"
        }
      ]
    },
    {
      "cell_type": "code",
      "metadata": {
        "id": "2vz0DynR1Vn3"
      },
      "source": [
        "train_data = pd.read_csv('/content/drive/MyDrive/Training Data.csv')\n",
        "test_data = pd.read_csv('/content/drive/MyDrive/Test Data.csv')\n"
      ],
      "execution_count": null,
      "outputs": []
    },
    {
      "cell_type": "code",
      "metadata": {
        "id": "cGycC2Mq6e-8"
      },
      "source": [
        ""
      ],
      "execution_count": null,
      "outputs": []
    },
    {
      "cell_type": "code",
      "metadata": {
        "id": "CCADpcwHN3ap"
      },
      "source": [
        "#test_data"
      ],
      "execution_count": null,
      "outputs": []
    },
    {
      "cell_type": "code",
      "metadata": {
        "id": "o6hgAr4m25Cf"
      },
      "source": [
        "\n",
        "df = train_data.copy(True)\n",
        "df2 = test_data.copy(True)"
      ],
      "execution_count": null,
      "outputs": []
    },
    {
      "cell_type": "code",
      "metadata": {
        "id": "n_HlvErNfeHT"
      },
      "source": [
        "df.drop(['Id', 'profession', 'city', 'state'], axis=1, inplace=True)\n",
        "df2.drop(['id', 'profession', 'city', 'state'], axis=1, inplace=True)\n"
      ],
      "execution_count": null,
      "outputs": []
    },
    {
      "cell_type": "code",
      "metadata": {
        "id": "f2OcnZG1GZAw"
      },
      "source": [
        "#df"
      ],
      "execution_count": null,
      "outputs": []
    },
    {
      "cell_type": "code",
      "metadata": {
        "id": "-tdWSlcJglfa"
      },
      "source": [
        "df['married'] = [0*i if df['married'][i]=='single' else 1 for i in range(len(df)) ]\n",
        "df['house_ownership'] = [0 if df['house_ownership'][i]=='norent_noown' else 1 if df['house_ownership'][i]=='rented' else -1 for i in range(len(df))]\n",
        "df['car_ownership'] = [0 if df['car_ownership'][i]=='no' else 1 for i in range(len(df))]\n",
        "\n",
        "df2['married'] = [0*i if df2['married'][i]=='single' else 1 for i in range(len(df2)) ]\n",
        "df2['house_ownership'] = [0 if df2['house_ownership'][i]=='norent_noown' else 1 if df2['house_ownership'][i]=='rented' else -1 for i in range(len(df2))]\n",
        "df2['car_ownership'] = [0 if df2['car_ownership'][i]=='no' else 1 for i in range(len(df2))]\n",
        "\n"
      ],
      "execution_count": null,
      "outputs": []
    },
    {
      "cell_type": "code",
      "metadata": {
        "id": "fBZxNCS3BAKJ",
        "colab": {
          "base_uri": "https://localhost:8080/"
        },
        "outputId": "c5be5b1b-d62b-4e2b-a5b0-3d64de046098"
      },
      "source": [
        "num_feat = df.select_dtypes(include='number').columns.tolist()[:-1]\n",
        "#cat_feat = df.select_dtypes(exclude='number').columns.tolist()\n",
        "target_feat = df.select_dtypes(include='number').columns.tolist()[-1]\n",
        "\n",
        "Y_ready = df[target_feat].values\n",
        "\n",
        "transformer = ColumnTransformer([\n",
        "                              #('encoding',OrdinalEncoder() ,cat_feat),\n",
        "                              ('scaling', MinMaxScaler(), num_feat),                              \n",
        "                              ], remainder='passthrough')\n",
        "\n",
        "print(num_feat)\n",
        "#print(cat_feat)\n",
        "print(target_feat)\n",
        "\n"
      ],
      "execution_count": null,
      "outputs": [
        {
          "output_type": "stream",
          "text": [
            "['income', 'age', 'experience', 'married', 'house_ownership', 'car_ownership', 'current_job_years', 'current_house_years']\n",
            "risk_flag\n"
          ],
          "name": "stdout"
        }
      ]
    },
    {
      "cell_type": "code",
      "metadata": {
        "id": "siF5FB7zAfVd"
      },
      "source": [
        "df = transformer.fit_transform(df.iloc[:,:-1])\n",
        "df2 = transformer.transform(df2)\n"
      ],
      "execution_count": null,
      "outputs": []
    },
    {
      "cell_type": "code",
      "metadata": {
        "colab": {
          "base_uri": "https://localhost:8080/"
        },
        "id": "cZou3k1rEDCZ",
        "outputId": "ee455ba0-5239-445d-be58-76ab36cad67b"
      },
      "source": [
        "X_ready = df\n",
        "X_test = df2\n",
        "\n",
        "X_train, X_val, y_train, y_val = train_test_split(X_ready, Y_ready, test_size=0.1,stratify=Y_ready )\n",
        "\n",
        "print('X_train shape :', X_train.shape)\n",
        "print('y_train shape :', y_train.shape)\n",
        "print('\\n')\n",
        "print('X_val shape :', X_val.shape)\n",
        "print('y_val shape :', y_val.shape)\n",
        "print('\\n')\n",
        "print('X_test shape :', X_test.shape)\n",
        "\n"
      ],
      "execution_count": null,
      "outputs": [
        {
          "output_type": "stream",
          "text": [
            "X_train shape : (226800, 8)\n",
            "y_train shape : (226800,)\n",
            "\n",
            "\n",
            "X_val shape : (25200, 8)\n",
            "y_val shape : (25200,)\n",
            "\n",
            "\n",
            "X_test shape : (28000, 8)\n"
          ],
          "name": "stdout"
        }
      ]
    },
    {
      "cell_type": "code",
      "metadata": {
        "id": "1flLGFUGNPph",
        "colab": {
          "base_uri": "https://localhost:8080/",
          "height": 424
        },
        "outputId": "445b6119-4829-4d15-df8e-a17afcf1ce00"
      },
      "source": [
        "test_data_transformed_id = pd.DataFrame(X_test)\n",
        "test_data_transformed_id['id'] = test_data['id']\n",
        "test_data_transformed_id"
      ],
      "execution_count": null,
      "outputs": [
        {
          "output_type": "execute_result",
          "data": {
            "text/html": [
              "<div>\n",
              "<style scoped>\n",
              "    .dataframe tbody tr th:only-of-type {\n",
              "        vertical-align: middle;\n",
              "    }\n",
              "\n",
              "    .dataframe tbody tr th {\n",
              "        vertical-align: top;\n",
              "    }\n",
              "\n",
              "    .dataframe thead th {\n",
              "        text-align: right;\n",
              "    }\n",
              "</style>\n",
              "<table border=\"1\" class=\"dataframe\">\n",
              "  <thead>\n",
              "    <tr style=\"text-align: right;\">\n",
              "      <th></th>\n",
              "      <th>0</th>\n",
              "      <th>1</th>\n",
              "      <th>2</th>\n",
              "      <th>3</th>\n",
              "      <th>4</th>\n",
              "      <th>5</th>\n",
              "      <th>6</th>\n",
              "      <th>7</th>\n",
              "      <th>id</th>\n",
              "    </tr>\n",
              "  </thead>\n",
              "  <tbody>\n",
              "    <tr>\n",
              "      <th>0</th>\n",
              "      <td>0.739045</td>\n",
              "      <td>0.655172</td>\n",
              "      <td>0.95</td>\n",
              "      <td>0.0</td>\n",
              "      <td>1.0</td>\n",
              "      <td>0.0</td>\n",
              "      <td>0.285714</td>\n",
              "      <td>0.75</td>\n",
              "      <td>1</td>\n",
              "    </tr>\n",
              "    <tr>\n",
              "      <th>1</th>\n",
              "      <td>0.120594</td>\n",
              "      <td>0.068966</td>\n",
              "      <td>0.25</td>\n",
              "      <td>0.0</td>\n",
              "      <td>1.0</td>\n",
              "      <td>0.0</td>\n",
              "      <td>0.357143</td>\n",
              "      <td>0.00</td>\n",
              "      <td>2</td>\n",
              "    </tr>\n",
              "    <tr>\n",
              "      <th>2</th>\n",
              "      <td>0.890026</td>\n",
              "      <td>0.500000</td>\n",
              "      <td>0.60</td>\n",
              "      <td>0.0</td>\n",
              "      <td>1.0</td>\n",
              "      <td>0.0</td>\n",
              "      <td>0.642857</td>\n",
              "      <td>1.00</td>\n",
              "      <td>3</td>\n",
              "    </tr>\n",
              "    <tr>\n",
              "      <th>3</th>\n",
              "      <td>0.193612</td>\n",
              "      <td>0.482759</td>\n",
              "      <td>0.45</td>\n",
              "      <td>1.0</td>\n",
              "      <td>1.0</td>\n",
              "      <td>1.0</td>\n",
              "      <td>0.214286</td>\n",
              "      <td>0.50</td>\n",
              "      <td>4</td>\n",
              "    </tr>\n",
              "    <tr>\n",
              "      <th>4</th>\n",
              "      <td>0.000312</td>\n",
              "      <td>0.068966</td>\n",
              "      <td>0.90</td>\n",
              "      <td>0.0</td>\n",
              "      <td>1.0</td>\n",
              "      <td>1.0</td>\n",
              "      <td>0.928571</td>\n",
              "      <td>0.25</td>\n",
              "      <td>5</td>\n",
              "    </tr>\n",
              "    <tr>\n",
              "      <th>...</th>\n",
              "      <td>...</td>\n",
              "      <td>...</td>\n",
              "      <td>...</td>\n",
              "      <td>...</td>\n",
              "      <td>...</td>\n",
              "      <td>...</td>\n",
              "      <td>...</td>\n",
              "      <td>...</td>\n",
              "      <td>...</td>\n",
              "    </tr>\n",
              "    <tr>\n",
              "      <th>27995</th>\n",
              "      <td>0.995550</td>\n",
              "      <td>0.620690</td>\n",
              "      <td>0.65</td>\n",
              "      <td>0.0</td>\n",
              "      <td>1.0</td>\n",
              "      <td>0.0</td>\n",
              "      <td>0.357143</td>\n",
              "      <td>0.00</td>\n",
              "      <td>27996</td>\n",
              "    </tr>\n",
              "    <tr>\n",
              "      <th>27996</th>\n",
              "      <td>0.291047</td>\n",
              "      <td>0.448276</td>\n",
              "      <td>0.45</td>\n",
              "      <td>0.0</td>\n",
              "      <td>1.0</td>\n",
              "      <td>0.0</td>\n",
              "      <td>0.642857</td>\n",
              "      <td>1.00</td>\n",
              "      <td>27997</td>\n",
              "    </tr>\n",
              "    <tr>\n",
              "      <th>27997</th>\n",
              "      <td>0.808049</td>\n",
              "      <td>0.051724</td>\n",
              "      <td>0.25</td>\n",
              "      <td>0.0</td>\n",
              "      <td>1.0</td>\n",
              "      <td>0.0</td>\n",
              "      <td>0.285714</td>\n",
              "      <td>0.75</td>\n",
              "      <td>27998</td>\n",
              "    </tr>\n",
              "    <tr>\n",
              "      <th>27998</th>\n",
              "      <td>0.947370</td>\n",
              "      <td>0.517241</td>\n",
              "      <td>0.65</td>\n",
              "      <td>0.0</td>\n",
              "      <td>1.0</td>\n",
              "      <td>1.0</td>\n",
              "      <td>0.928571</td>\n",
              "      <td>1.00</td>\n",
              "      <td>27999</td>\n",
              "    </tr>\n",
              "    <tr>\n",
              "      <th>27999</th>\n",
              "      <td>0.924963</td>\n",
              "      <td>0.362069</td>\n",
              "      <td>0.45</td>\n",
              "      <td>0.0</td>\n",
              "      <td>1.0</td>\n",
              "      <td>0.0</td>\n",
              "      <td>0.285714</td>\n",
              "      <td>0.00</td>\n",
              "      <td>28000</td>\n",
              "    </tr>\n",
              "  </tbody>\n",
              "</table>\n",
              "<p>28000 rows × 9 columns</p>\n",
              "</div>"
            ],
            "text/plain": [
              "              0         1     2    3    4    5         6     7     id\n",
              "0      0.739045  0.655172  0.95  0.0  1.0  0.0  0.285714  0.75      1\n",
              "1      0.120594  0.068966  0.25  0.0  1.0  0.0  0.357143  0.00      2\n",
              "2      0.890026  0.500000  0.60  0.0  1.0  0.0  0.642857  1.00      3\n",
              "3      0.193612  0.482759  0.45  1.0  1.0  1.0  0.214286  0.50      4\n",
              "4      0.000312  0.068966  0.90  0.0  1.0  1.0  0.928571  0.25      5\n",
              "...         ...       ...   ...  ...  ...  ...       ...   ...    ...\n",
              "27995  0.995550  0.620690  0.65  0.0  1.0  0.0  0.357143  0.00  27996\n",
              "27996  0.291047  0.448276  0.45  0.0  1.0  0.0  0.642857  1.00  27997\n",
              "27997  0.808049  0.051724  0.25  0.0  1.0  0.0  0.285714  0.75  27998\n",
              "27998  0.947370  0.517241  0.65  0.0  1.0  1.0  0.928571  1.00  27999\n",
              "27999  0.924963  0.362069  0.45  0.0  1.0  0.0  0.285714  0.00  28000\n",
              "\n",
              "[28000 rows x 9 columns]"
            ]
          },
          "metadata": {
            "tags": []
          },
          "execution_count": 11
        }
      ]
    },
    {
      "cell_type": "code",
      "metadata": {
        "id": "pgFohK3TVDXL"
      },
      "source": [
        ""
      ],
      "execution_count": null,
      "outputs": []
    },
    {
      "cell_type": "markdown",
      "metadata": {
        "id": "8o9GXz0TVD1J"
      },
      "source": [
        "### RF\n",
        "\n",
        "Rf(n_esti=300, class_weight=balanced) : Train 93.85 , Val : 93.65\n",
        "\n",
        "\n",
        "Rf(n_esti=500, class_weight=balanced) : Train 93.77 , Val : 93.77\n",
        "\n",
        "Rf(n_esti=700, class_weight=balanced) : Train 95.88 , Val : 93.77\n",
        "\n",
        "Rf(n_esti=1000, class_weight=balanced) : Train 95.88 , Val : 93.77"
      ]
    },
    {
      "cell_type": "code",
      "metadata": {
        "id": "BSc6XwXDb-qD",
        "colab": {
          "base_uri": "https://localhost:8080/"
        },
        "outputId": "073e2458-f520-4cd9-b2d6-3a1bc95d711f"
      },
      "source": [
        "from sklearn.ensemble import RandomForestClassifier\n",
        "\n",
        "for_clf = RandomForestClassifier(n_estimators=1000,\n",
        "                                #  min_samples_split =50,\n",
        "                                #  max_features = None,\n",
        "                                 class_weight = 'balanced'\n",
        "                                 \n",
        "                                 )\n",
        "\n",
        "for_clf.fit(X_train, y_train)\n",
        "\n"
      ],
      "execution_count": null,
      "outputs": [
        {
          "output_type": "execute_result",
          "data": {
            "text/plain": [
              "RandomForestClassifier(bootstrap=True, ccp_alpha=0.0, class_weight='balanced',\n",
              "                       criterion='gini', max_depth=None, max_features='auto',\n",
              "                       max_leaf_nodes=None, max_samples=None,\n",
              "                       min_impurity_decrease=0.0, min_impurity_split=None,\n",
              "                       min_samples_leaf=1, min_samples_split=2,\n",
              "                       min_weight_fraction_leaf=0.0, n_estimators=1000,\n",
              "                       n_jobs=None, oob_score=False, random_state=None,\n",
              "                       verbose=0, warm_start=False)"
            ]
          },
          "metadata": {
            "tags": []
          },
          "execution_count": 13
        }
      ]
    },
    {
      "cell_type": "code",
      "metadata": {
        "colab": {
          "base_uri": "https://localhost:8080/"
        },
        "id": "15AHX7OEtgvS",
        "outputId": "fbee3a56-5e60-41c7-f1f9-dd128824dbae"
      },
      "source": [
        "#y_score_for = cross_val_predict(for_clf, X_train, y_train, cv=3, method='predict_proba')\n",
        "\n",
        "roc_auc_score(y_train, for_clf.predict(X_train))"
      ],
      "execution_count": null,
      "outputs": [
        {
          "output_type": "execute_result",
          "data": {
            "text/plain": [
              "0.9575900937135502"
            ]
          },
          "metadata": {
            "tags": []
          },
          "execution_count": 16
        }
      ]
    },
    {
      "cell_type": "code",
      "metadata": {
        "colab": {
          "base_uri": "https://localhost:8080/"
        },
        "id": "KbXif_2-vJOB",
        "outputId": "19b9ea74-607d-4b2f-8264-d9d2566b35e4"
      },
      "source": [
        "roc_auc_score(y_val, for_clf.predict(X_val))"
      ],
      "execution_count": null,
      "outputs": [
        {
          "output_type": "execute_result",
          "data": {
            "text/plain": [
              "0.8356342139833601"
            ]
          },
          "metadata": {
            "tags": []
          },
          "execution_count": 15
        }
      ]
    },
    {
      "cell_type": "code",
      "metadata": {
        "id": "6LlP4IfOAHcT"
      },
      "source": [
        ""
      ],
      "execution_count": null,
      "outputs": []
    },
    {
      "cell_type": "code",
      "metadata": {
        "id": "S9XuDa2mMndP"
      },
      "source": [
        "y_predict_final_forest = for_clf.predict(X_test)"
      ],
      "execution_count": null,
      "outputs": []
    },
    {
      "cell_type": "code",
      "metadata": {
        "id": "aczfbmifO-wg"
      },
      "source": [
        "test_data_transformed_id['risk_flag'] = y_predict_final_forest\n",
        "test_data_transformed_id\n",
        "Final_submission = test_data_transformed_id.iloc[:,-2:]\n",
        "Final_submission\n"
      ],
      "execution_count": null,
      "outputs": []
    },
    {
      "cell_type": "code",
      "metadata": {
        "id": "EY8er-AxQSbY"
      },
      "source": [
        "Final_submission.to_csv('final_submission.csv',index=False)"
      ],
      "execution_count": null,
      "outputs": []
    },
    {
      "cell_type": "code",
      "metadata": {
        "id": "sK5LoC-FVJAZ"
      },
      "source": [
        "\n",
        "\n",
        "param_for_clf = {\n",
        "                'n_estimators' : [300,400,500,600,700,800,900,1000],\n",
        "                 #'min_samples_split' : int(np.random.uniform(1,20)),\n",
        "                 'max_features' : ['auto', None,'sqrt'],\n",
        "                 'class_weight' : ['balanced', None]\n",
        "                 \n",
        "    \n",
        "                }\n",
        "\n",
        "grid_for = RandomizedSearchCV(RandomForestClassifier(), param_for_clf, cv=5, verbose=4)\n",
        "grid_for.fit(X_train, y_train)"
      ],
      "execution_count": null,
      "outputs": []
    },
    {
      "cell_type": "code",
      "metadata": {
        "id": "F8JM1Gf3Y5XG"
      },
      "source": [
        "grid_for.best_params_"
      ],
      "execution_count": null,
      "outputs": []
    },
    {
      "cell_type": "code",
      "metadata": {
        "id": "HiacTGUPaE7u"
      },
      "source": [
        "print('Train Score')\n",
        "y_score_for_grid = cross_val_predict(grid_for, X_train, y_train, cv=3, method='predict_proba')\n",
        "roc_auc_score(y_train, y_score_for_grid[:,1])"
      ],
      "execution_count": null,
      "outputs": []
    },
    {
      "cell_type": "code",
      "metadata": {
        "id": "ReCgjbb2ZFTL"
      },
      "source": [
        "print('Val Score')\n",
        "roc_auc_score(y_val, grid_for.predict_proba(X_val)[:,1])"
      ],
      "execution_count": null,
      "outputs": []
    },
    {
      "cell_type": "markdown",
      "metadata": {
        "id": "y0hUbaCU5Dwm"
      },
      "source": [
        "### XGB"
      ]
    },
    {
      "cell_type": "code",
      "metadata": {
        "colab": {
          "base_uri": "https://localhost:8080/"
        },
        "id": "dtXEyLZvt8KB",
        "outputId": "5cc288b9-ce80-41b0-d5df-d26db4e15529"
      },
      "source": [
        "D_train = xgb.DMatrix(X_train, label=y_train)\n",
        "D_val = xgb.DMatrix(X_val, label=y_val)\n",
        "\n",
        "xgb_clf = XGBClassifier(\n",
        "                        booster = 'gbtree',\n",
        "                        colsample_bytree= 0.9,\n",
        "                        eta= 0.1,\n",
        "                        gamma= 0.1,\n",
        "                        max_depth= 14,\n",
        "                        min_child_weight= 1,\n",
        "                        n_estimators= 600\n",
        "                        )\n",
        "\n",
        "xgb_clf.fit(X_train, y_train)"
      ],
      "execution_count": null,
      "outputs": [
        {
          "output_type": "execute_result",
          "data": {
            "text/plain": [
              "XGBClassifier(base_score=0.5, booster='gbtree', colsample_bylevel=1,\n",
              "              colsample_bynode=1, colsample_bytree=0.9, eta=0.1, gamma=0.1,\n",
              "              learning_rate=0.1, max_delta_step=0, max_depth=14,\n",
              "              min_child_weight=1, missing=None, n_estimators=600, n_jobs=1,\n",
              "              nthread=None, objective='binary:logistic', random_state=0,\n",
              "              reg_alpha=0, reg_lambda=1, scale_pos_weight=1, seed=None,\n",
              "              silent=None, subsample=1, verbosity=1)"
            ]
          },
          "metadata": {
            "tags": []
          },
          "execution_count": 43
        }
      ]
    },
    {
      "cell_type": "code",
      "metadata": {
        "id": "CpXThUrk5V5T"
      },
      "source": [
        "\n",
        "y_score_xgb = cross_val_predict(xgb_clf, X_train, y_train, cv=3, method='predict_proba')"
      ],
      "execution_count": null,
      "outputs": []
    },
    {
      "cell_type": "code",
      "metadata": {
        "colab": {
          "base_uri": "https://localhost:8080/"
        },
        "id": "Tp5g3cOu8_i3",
        "outputId": "69a8d10b-628a-4917-85c3-367ab8f246b2"
      },
      "source": [
        "roc_auc_score(y_train, y_score_xgb[:,1])"
      ],
      "execution_count": null,
      "outputs": [
        {
          "output_type": "execute_result",
          "data": {
            "text/plain": [
              "0.9243742018816887"
            ]
          },
          "metadata": {
            "tags": []
          },
          "execution_count": 41
        }
      ]
    },
    {
      "cell_type": "code",
      "metadata": {
        "colab": {
          "base_uri": "https://localhost:8080/"
        },
        "id": "6F1h_yvyKc8m",
        "outputId": "ec2608ef-bf0c-40b9-ad2b-aa1b255ca61c"
      },
      "source": [
        "roc_auc_score(y_val, xgb_clf.predict_proba(X_val)[:,1])"
      ],
      "execution_count": null,
      "outputs": [
        {
          "output_type": "execute_result",
          "data": {
            "text/plain": [
              "0.9251719457013575"
            ]
          },
          "metadata": {
            "tags": []
          },
          "execution_count": 44
        }
      ]
    },
    {
      "cell_type": "code",
      "metadata": {
        "id": "eohEWVqC9Nfr"
      },
      "source": [
        "params_xgb= {\n",
        "     \"eta\"    : [0.025,0.05, 0.10, ] ,\n",
        "     'n_estimators=300' : [400,500],\n",
        "     \"max_depth\"        : [ 8,10,12],\n",
        "     \"min_child_weight\" : [ 1, 3, 5, 7 ],\n",
        "     \"gamma\"            : [  0.1, 0.2 , ],\n",
        "     \"colsample_bytree\" : [ 0.5 , 0.7, 0.8 ],\n",
        "     'booster' : ['gbtree']\n",
        "     }\n",
        "\n",
        "grid_xgb = RandomizedSearchCV(xgb_clf,params_xgb,n_iter=2, verbose=3)\n",
        "grid_xgb.fit(X_train,y_train)"
      ],
      "execution_count": null,
      "outputs": []
    },
    {
      "cell_type": "code",
      "metadata": {
        "colab": {
          "base_uri": "https://localhost:8080/"
        },
        "id": "abnC6j0PBHF0",
        "outputId": "a49d5758-73d0-4964-9502-8e2663429e4a"
      },
      "source": [
        "grid_xgb.best_params_"
      ],
      "execution_count": null,
      "outputs": [
        {
          "output_type": "execute_result",
          "data": {
            "text/plain": [
              "{'booster': 'gbtree',\n",
              " 'colsample_bytree': 0.8,\n",
              " 'eta': 0.1,\n",
              " 'gamma': 0.1,\n",
              " 'max_depth': 12,\n",
              " 'min_child_weight': 1,\n",
              " 'n_estimators=300': 500}"
            ]
          },
          "metadata": {
            "tags": []
          },
          "execution_count": 32
        }
      ]
    },
    {
      "cell_type": "code",
      "metadata": {
        "colab": {
          "base_uri": "https://localhost:8080/"
        },
        "id": "05bv3dWzB1Lh",
        "outputId": "56ee5f86-0309-4fe3-f82d-bac0530eb1b8"
      },
      "source": [
        "y_score_xgb = grid_xgb.predict_proba(X_train)\n",
        "roc_auc_score(y_train, y_score_xgb[:,1])"
      ],
      "execution_count": null,
      "outputs": [
        {
          "output_type": "execute_result",
          "data": {
            "text/plain": [
              "0.9469161409780832"
            ]
          },
          "metadata": {
            "tags": []
          },
          "execution_count": 33
        }
      ]
    },
    {
      "cell_type": "code",
      "metadata": {
        "colab": {
          "base_uri": "https://localhost:8080/"
        },
        "id": "s9asVKhACPwi",
        "outputId": "b186d93b-54b7-4ef9-c12d-e89396b98280"
      },
      "source": [
        "roc_auc_score(y_val, grid_xgb.predict_proba(X_val)[:,1])"
      ],
      "execution_count": null,
      "outputs": [
        {
          "output_type": "execute_result",
          "data": {
            "text/plain": [
              "0.906212341264049"
            ]
          },
          "metadata": {
            "tags": []
          },
          "execution_count": 34
        }
      ]
    },
    {
      "cell_type": "code",
      "metadata": {
        "id": "iMq9E9HIHqs0"
      },
      "source": [
        ""
      ],
      "execution_count": null,
      "outputs": []
    },
    {
      "cell_type": "markdown",
      "metadata": {
        "id": "nsAo_gNJFnnq"
      },
      "source": [
        "### LGBM"
      ]
    },
    {
      "cell_type": "code",
      "metadata": {
        "colab": {
          "base_uri": "https://localhost:8080/"
        },
        "id": "XmbnODg4FrsP",
        "outputId": "ca726fd8-acb6-4dec-a6f9-e8a8566ad3b1"
      },
      "source": [
        "from lightgbm import LGBMClassifier\n",
        "\n",
        "lgbm_clf = LGBMClassifier(\n",
        "                    nthread=4,\n",
        "                    n_estimators=3000,\n",
        "                    learning_rate=0.01,\n",
        "                    num_leaves=5000,\n",
        "                    colsample_bytree=0.9497036,\n",
        "                    subsample=0.8715623,\n",
        "                    max_depth=75,\n",
        "                    reg_alpha=0.04,\n",
        "                    reg_lambda=0.073,\n",
        "                    min_split_gain=0.01,\n",
        "                    min_child_weight=40,\n",
        "                    silent=-1,\n",
        "                    verbose=-1,\n",
        "                    class_weight='balanced'\n",
        "                     )\n",
        "\n",
        "lgbm_clf.fit(X_train, y_train)"
      ],
      "execution_count": null,
      "outputs": [
        {
          "output_type": "execute_result",
          "data": {
            "text/plain": [
              "LGBMClassifier(boosting_type='gbdt', class_weight='balanced',\n",
              "               colsample_bytree=0.9497036, importance_type='split',\n",
              "               learning_rate=0.01, max_depth=75, min_child_samples=20,\n",
              "               min_child_weight=40, min_split_gain=0.01, n_estimators=3000,\n",
              "               n_jobs=-1, nthread=4, num_leaves=5000, objective=None,\n",
              "               random_state=None, reg_alpha=0.04, reg_lambda=0.073, silent=-1,\n",
              "               subsample=0.8715623, subsample_for_bin=200000, subsample_freq=0,\n",
              "               verbose=-1)"
            ]
          },
          "metadata": {
            "tags": []
          },
          "execution_count": 12
        }
      ]
    },
    {
      "cell_type": "code",
      "metadata": {
        "colab": {
          "base_uri": "https://localhost:8080/"
        },
        "id": "9dOnKeDrLpY6",
        "outputId": "e8b687de-dd7b-4839-81b5-f5e0379ff954"
      },
      "source": [
        "print('Train score')\n",
        "print(roc_auc_score(y_train, lgbm_clf.predict(X_train)))\n",
        "\n",
        "print('Val score')\n",
        "roc_auc_score(y_val, lgbm_clf.predict(X_val))"
      ],
      "execution_count": null,
      "outputs": [
        {
          "output_type": "stream",
          "text": [
            "Train score\n",
            "0.9314112378276316\n",
            "Val score\n"
          ],
          "name": "stdout"
        },
        {
          "output_type": "execute_result",
          "data": {
            "text/plain": [
              "0.8527893738140417"
            ]
          },
          "metadata": {
            "tags": []
          },
          "execution_count": 13
        }
      ]
    },
    {
      "cell_type": "markdown",
      "metadata": {
        "id": "jgg_8vm_3XDN"
      },
      "source": [
        "PLAIN LGBM\n",
        "\n",
        "n_esti : 10000 , balanced , Train :97.53 , Val: 91.89\n",
        "\n",
        "n_esti : 1000 , balanced , num_leaves =50 , Train :95.33 , Val: 91.67\n",
        "\n",
        "n_esti : 1000 , balanced , num_leaves =50 , max_depth = 10 Train :95.27 , Val: 91.51\n"
      ]
    },
    {
      "cell_type": "code",
      "metadata": {
        "id": "VTUusqiXMISk",
        "colab": {
          "base_uri": "https://localhost:8080/"
        },
        "outputId": "761d64de-f280-4f1f-b593-17ff443a6d53"
      },
      "source": [
        "from lightgbm import LGBMClassifier\n",
        "\n",
        "lgbm_model = LGBMClassifier(n_estimators=1000,class_weight='balanced',num_leaves=50,)\n",
        "lgbm_model.fit(X_train, y_train)"
      ],
      "execution_count": null,
      "outputs": [
        {
          "output_type": "execute_result",
          "data": {
            "text/plain": [
              "LGBMClassifier(boosting_type='gbdt', class_weight='balanced',\n",
              "               colsample_bytree=1.0, importance_type='split', learning_rate=0.1,\n",
              "               max_depth=-1, min_child_samples=20, min_child_weight=0.001,\n",
              "               min_split_gain=0.0, n_estimators=1000, n_jobs=-1, num_leaves=50,\n",
              "               objective=None, random_state=None, reg_alpha=0.0, reg_lambda=0.0,\n",
              "               silent=True, subsample=1.0, subsample_for_bin=200000,\n",
              "               subsample_freq=0)"
            ]
          },
          "metadata": {
            "tags": []
          },
          "execution_count": 14
        }
      ]
    },
    {
      "cell_type": "code",
      "metadata": {
        "colab": {
          "base_uri": "https://localhost:8080/"
        },
        "id": "6K5_PWq43wsA",
        "outputId": "51240e9f-16bf-4452-aef2-137598b0bc57"
      },
      "source": [
        "print('Train score')\n",
        "print(roc_auc_score(y_train, lgbm_model.predict(X_train)))\n",
        "\n",
        "print('Val score')\n",
        "roc_auc_score(y_val, lgbm_model.predict(X_val))"
      ],
      "execution_count": null,
      "outputs": [
        {
          "output_type": "stream",
          "text": [
            "Train score\n",
            "0.9183693589537139\n",
            "Val score\n"
          ],
          "name": "stdout"
        },
        {
          "output_type": "execute_result",
          "data": {
            "text/plain": [
              "0.8493789227849949"
            ]
          },
          "metadata": {
            "tags": []
          },
          "execution_count": 16
        }
      ]
    },
    {
      "cell_type": "code",
      "metadata": {
        "id": "Qt1N6_du4A6W"
      },
      "source": [
        ""
      ],
      "execution_count": null,
      "outputs": []
    }
  ]
}